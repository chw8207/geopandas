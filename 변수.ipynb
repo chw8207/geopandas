{
 "cells": [
  {
   "cell_type": "markdown",
   "metadata": {},
   "source": [
    "### 변수의 자료형"
   ]
  },
  {
   "cell_type": "code",
   "execution_count": 1,
   "metadata": {},
   "outputs": [
    {
     "name": "stdout",
     "output_type": "stream",
     "text": [
      "123 <class 'int'>\n",
      "3 <class 'int'>\n",
      "8 <class 'int'>\n",
      "10 <class 'int'>\n",
      "12.34 <class 'float'>\n",
      "1.23e-09 <class 'float'>\n",
      "EULER <class 'str'>\n",
      "(1+2j) <class 'complex'>\n",
      "None <class 'NoneType'>\n"
     ]
    }
   ],
   "source": [
    "a = 123       # 정수\n",
    "b = 0b11      # 2진수, 대문자 B도 가능\n",
    "c = 0o10      # 8진수, 대문자 O도 가능\n",
    "d = 0xA       # 6진수, 대문자 X도 가능\n",
    "e = 12.34     # 부동 소수점\n",
    "f = 12.3e-10  # E 표기법, 대문자 E도 가능\n",
    "g = 'EULER'   # 문자열\n",
    "h = 1 + 2j    # 복소수, 대문자 J도 가능\n",
    "i = None\n",
    "\n",
    "print(a, type(a))\n",
    "print(b, type(b))\n",
    "print(c, type(c))\n",
    "print(d, type(d))\n",
    "print(e, type(e))\n",
    "print(f, type(f))\n",
    "print(g, type(g))\n",
    "print(h, type(h))\n",
    "print(i, type(i))\n"
   ]
  },
  {
   "cell_type": "markdown",
   "metadata": {},
   "source": [
    "### 여러 개의 변수 초기화\n",
    "- del() : 메모리에 할당된 변수를 해제할 수 있음"
   ]
  },
  {
   "cell_type": "code",
   "execution_count": 5,
   "metadata": {},
   "outputs": [
    {
     "name": "stdout",
     "output_type": "stream",
     "text": [
      "10\n",
      "20\n",
      "10.55\n",
      "20.77\n",
      "Hello\n",
      "Euler\n"
     ]
    }
   ],
   "source": [
    "a, b = 10, 20\n",
    "print(a)\n",
    "print(b)\n",
    "\n",
    "a, b = 10.55, 20.77\n",
    "print(a)\n",
    "print(b)\n",
    "\n",
    "a, b = 'Hello', 'Euler'\n",
    "print(a)\n",
    "print(b)\n",
    "\n",
    "del(a)"
   ]
  },
  {
   "cell_type": "markdown",
   "metadata": {},
   "source": [
    "### 형 변환(casting)"
   ]
  },
  {
   "cell_type": "code",
   "execution_count": 10,
   "metadata": {},
   "outputs": [
    {
     "name": "stdout",
     "output_type": "stream",
     "text": [
      "10\n",
      "10\n",
      "10\n",
      "10\n",
      "11.0\n",
      "11.0\n",
      "11.0\n",
      "12\n",
      "12.0\n",
      "12\n"
     ]
    }
   ],
   "source": [
    "print(int(10.5))\n",
    "print(int('10'))\n",
    "print(int(0xA))\n",
    "print(int('0b1010', 2))  # 문자열이어서 진법을 같이 전달함\n",
    "\n",
    "print(float(11))\n",
    "print(float('11'))\n",
    "print(float(0b1011))\n",
    "\n",
    "print(str(12))\n",
    "print(str(12.0))\n",
    "print(str(0b1100))"
   ]
  },
  {
   "cell_type": "markdown",
   "metadata": {},
   "source": [
    "### bool의 곱셈 연산"
   ]
  },
  {
   "cell_type": "code",
   "execution_count": 13,
   "metadata": {},
   "outputs": [
    {
     "name": "stdout",
     "output_type": "stream",
     "text": [
      "5\n",
      "0\n",
      "3.14\n",
      "0.0\n",
      "Euler\n",
      "\n"
     ]
    }
   ],
   "source": [
    "print(5 * True)\n",
    "print(5 * False)\n",
    "\n",
    "print(3.14 * True)\n",
    "print(3.14 * False)\n",
    "\n",
    "print('Euler' * True)\n",
    "print('Euler' * False)"
   ]
  },
  {
   "cell_type": "markdown",
   "metadata": {},
   "source": [
    "### 진법 변환 \n",
    "- bin() : 2진수로 변환\n",
    "- oct() : 8진수로 변환\n",
    "- hex() : 16진수로 변환"
   ]
  },
  {
   "cell_type": "code",
   "execution_count": 17,
   "metadata": {},
   "outputs": [
    {
     "name": "stdout",
     "output_type": "stream",
     "text": [
      "15\n",
      "0b1111\n",
      "0o17\n",
      "0xf\n"
     ]
    }
   ],
   "source": [
    "a = 15\n",
    "print(a)\n",
    "print(bin(a))\n",
    "print(oct(a))\n",
    "print(hex(a))"
   ]
  },
  {
   "cell_type": "markdown",
   "metadata": {},
   "source": [
    "### 연습문제\n",
    "- 두 개의 변수 a, b에 정수 52, 32를 초기화한 후\n",
    "- 두 정수의 사칙 연산을 작성하는 프로그램"
   ]
  },
  {
   "cell_type": "code",
   "execution_count": 20,
   "metadata": {},
   "outputs": [
    {
     "name": "stdout",
     "output_type": "stream",
     "text": [
      "54 + 32 = 86\n",
      "54 - 32 = 22\n",
      "54 * 32 = 1728\n",
      "54 / 32 = 1.6875\n"
     ]
    }
   ],
   "source": [
    "a,b = 54,32\n",
    "print(a, '+', b, '=', a+b)\n",
    "print(a, '-', b, '=', a-b)\n",
    "print(a, '*', b, '=', a*b)\n",
    "print(a, '/', b, '=', a/b)"
   ]
  },
  {
   "cell_type": "markdown",
   "metadata": {},
   "source": [
    "- 두 개의 변수 a,b에 실수 12.34,23.12를 초기화한 후\n",
    "- 두 실수의 사칙 연산을 작성하는 프로그램"
   ]
  },
  {
   "cell_type": "code",
   "execution_count": 24,
   "metadata": {},
   "outputs": [
    {
     "name": "stdout",
     "output_type": "stream",
     "text": [
      "12.34 + 23.12 = 35.46\n",
      "12.34 - 23.12 = -10.78\n",
      "12.34 * 23.12 = 285.3\n",
      "12.34 / 23.12 = 0.53\n"
     ]
    }
   ],
   "source": [
    "a,b = 12.34,23.12\n",
    "print(a, '+', b, '=', round((a+b),2))\n",
    "print(a, '-', b, '=', round((a-b),2))\n",
    "print(a, '*', b, '=', round((a*b),2))\n",
    "print(a, '/', b, '=', round((a/b),2))"
   ]
  }
 ],
 "metadata": {
  "kernelspec": {
   "display_name": "base",
   "language": "python",
   "name": "python3"
  },
  "language_info": {
   "codemirror_mode": {
    "name": "ipython",
    "version": 3
   },
   "file_extension": ".py",
   "mimetype": "text/x-python",
   "name": "python",
   "nbconvert_exporter": "python",
   "pygments_lexer": "ipython3",
   "version": "3.9.13"
  },
  "orig_nbformat": 4
 },
 "nbformat": 4,
 "nbformat_minor": 2
}
