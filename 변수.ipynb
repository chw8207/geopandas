{
 "cells": [
  {
   "cell_type": "markdown",
   "metadata": {},
   "source": [
    "### 변수의 자료형"
   ]
  },
  {
   "cell_type": "code",
   "execution_count": 1,
   "metadata": {},
   "outputs": [
    {
     "name": "stdout",
     "output_type": "stream",
     "text": [
      "123 <class 'int'>\n",
      "3 <class 'int'>\n",
      "8 <class 'int'>\n",
      "10 <class 'int'>\n",
      "12.34 <class 'float'>\n",
      "1.23e-09 <class 'float'>\n",
      "EULER <class 'str'>\n",
      "(1+2j) <class 'complex'>\n",
      "None <class 'NoneType'>\n"
     ]
    }
   ],
   "source": [
    "a = 123       # 정수\n",
    "b = 0b11      # 2진수, 대문자 B도 가능\n",
    "c = 0o10      # 8진수, 대문자 O도 가능\n",
    "d = 0xA       # 6진수, 대문자 X도 가능\n",
    "e = 12.34     # 부동 소수점\n",
    "f = 12.3e-10  # E 표기법, 대문자 E도 가능\n",
    "g = 'EULER'   # 문자열\n",
    "h = 1 + 2j    # 복소수, 대문자 J도 가능\n",
    "i = None\n",
    "\n",
    "print(a, type(a))\n",
    "print(b, type(b))\n",
    "print(c, type(c))\n",
    "print(d, type(d))\n",
    "print(e, type(e))\n",
    "print(f, type(f))\n",
    "print(g, type(g))\n",
    "print(h, type(h))\n",
    "print(i, type(i))\n"
   ]
  },
  {
   "cell_type": "markdown",
   "metadata": {},
   "source": [
    "### 여러 개의 변수 초기화\n",
    "- del() : 메모리에 할당된 변수를 해제할 수 있음"
   ]
  },
  {
   "cell_type": "code",
   "execution_count": 5,
   "metadata": {},
   "outputs": [
    {
     "name": "stdout",
     "output_type": "stream",
     "text": [
      "10\n",
      "20\n",
      "10.55\n",
      "20.77\n",
      "Hello\n",
      "Euler\n"
     ]
    }
   ],
   "source": [
    "a, b = 10, 20\n",
    "print(a)\n",
    "print(b)\n",
    "\n",
    "a, b = 10.55, 20.77\n",
    "print(a)\n",
    "print(b)\n",
    "\n",
    "a, b = 'Hello', 'Euler'\n",
    "print(a)\n",
    "print(b)\n",
    "\n",
    "del(a)"
   ]
  },
  {
   "cell_type": "markdown",
   "metadata": {},
   "source": [
    "### 형 변환(casting)"
   ]
  },
  {
   "cell_type": "code",
   "execution_count": 6,
   "metadata": {},
   "outputs": [
    {
     "name": "stdout",
     "output_type": "stream",
     "text": [
      "10\n",
      "10\n",
      "10\n",
      "10\n"
     ]
    }
   ],
   "source": [
    "print(int(10.5))\n",
    "print(int('10'))\n",
    "print(int(0xA))\n",
    "print(int('0b1010', 2))  # 문자열이어서 진법을 같이 전달함"
   ]
  }
 ],
 "metadata": {
  "kernelspec": {
   "display_name": "base",
   "language": "python",
   "name": "python3"
  },
  "language_info": {
   "codemirror_mode": {
    "name": "ipython",
    "version": 3
   },
   "file_extension": ".py",
   "mimetype": "text/x-python",
   "name": "python",
   "nbconvert_exporter": "python",
   "pygments_lexer": "ipython3",
   "version": "3.9.13"
  },
  "orig_nbformat": 4
 },
 "nbformat": 4,
 "nbformat_minor": 2
}
