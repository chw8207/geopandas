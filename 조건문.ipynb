{
 "cells": [
  {
   "cell_type": "markdown",
   "metadata": {},
   "source": [
    "### 연습문제\n",
    "- 한 개의 양의 정수 A가 주어지면 짝/홀수인지 판별하는 프로그램"
   ]
  },
  {
   "cell_type": "code",
   "execution_count": 1,
   "metadata": {},
   "outputs": [
    {
     "name": "stdout",
     "output_type": "stream",
     "text": [
      "odd\n"
     ]
    }
   ],
   "source": [
    "A = int(input())\n",
    "if A%2 == 0 : \n",
    "    print('even')\n",
    "else : \n",
    "    print('odd')"
   ]
  },
  {
   "cell_type": "markdown",
   "metadata": {},
   "source": [
    "- 두 개의 정수 A,B가 주어지면 두 정수 합 짝/홀수 여부 판별하는 프로그램"
   ]
  },
  {
   "cell_type": "code",
   "execution_count": 2,
   "metadata": {},
   "outputs": [
    {
     "name": "stdout",
     "output_type": "stream",
     "text": [
      "even\n"
     ]
    }
   ],
   "source": [
    "A,B = map(int, input().split())\n",
    "if (A+B)%2==0 : \n",
    "    print('even')\n",
    "else : \n",
    "    print('odd')"
   ]
  },
  {
   "cell_type": "markdown",
   "metadata": {},
   "source": [
    "- 작거나 크거나 : 두 수에 대한 부등호 기호를 보여주는 프로그램"
   ]
  },
  {
   "cell_type": "code",
   "execution_count": 3,
   "metadata": {},
   "outputs": [
    {
     "name": "stdout",
     "output_type": "stream",
     "text": [
      "=\n"
     ]
    }
   ],
   "source": [
    "A,B = map(int, input().split())\n",
    "if A>B : \n",
    "    print('>')\n",
    "elif A<B : \n",
    "    print('<')\n",
    "else : \n",
    "    print('=')"
   ]
  },
  {
   "cell_type": "markdown",
   "metadata": {},
   "source": [
    "- 두 개의 정수 A,B 주어지면 두 정수의 합이 자연수인지 판별하는 프로그램"
   ]
  },
  {
   "cell_type": "code",
   "execution_count": 1,
   "metadata": {},
   "outputs": [
    {
     "name": "stdout",
     "output_type": "stream",
     "text": [
      "Naturl Number\n"
     ]
    }
   ],
   "source": [
    "A,B = map(int, input().split())\n",
    "if (A+B) > 0 : \n",
    "    print('Naturl Number')\n",
    "else : \n",
    "    print('0 or Negative Number')"
   ]
  },
  {
   "cell_type": "markdown",
   "metadata": {},
   "source": [
    "- 햄버거 : 햄버거를 사기 위해 은행에서 찾아야 할 돈의 액수 출력"
   ]
  },
  {
   "cell_type": "code",
   "execution_count": null,
   "metadata": {},
   "outputs": [],
   "source": [
    "K,N,M = map(int, input().split())\n"
   ]
  }
 ],
 "metadata": {
  "kernelspec": {
   "display_name": "base",
   "language": "python",
   "name": "python3"
  },
  "language_info": {
   "codemirror_mode": {
    "name": "ipython",
    "version": 3
   },
   "file_extension": ".py",
   "mimetype": "text/x-python",
   "name": "python",
   "nbconvert_exporter": "python",
   "pygments_lexer": "ipython3",
   "version": "3.9.13"
  },
  "orig_nbformat": 4
 },
 "nbformat": 4,
 "nbformat_minor": 2
}
