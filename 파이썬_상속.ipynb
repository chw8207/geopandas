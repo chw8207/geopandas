{
  "nbformat": 4,
  "nbformat_minor": 0,
  "metadata": {
    "colab": {
      "provenance": [],
      "mount_file_id": "1zJyPPECK_WSOVBHCdjeKfErNXQH1TOOB",
      "authorship_tag": "ABX9TyPJeBZQ3yS1dXw/0dyA7Yvu",
      "include_colab_link": true
    },
    "kernelspec": {
      "name": "python3",
      "display_name": "Python 3"
    },
    "language_info": {
      "name": "python"
    }
  },
  "cells": [
    {
      "cell_type": "markdown",
      "metadata": {
        "id": "view-in-github",
        "colab_type": "text"
      },
      "source": [
        "<a href=\"https://colab.research.google.com/github/chw8207/python_coding/blob/main/%ED%8C%8C%EC%9D%B4%EC%8D%AC_%EC%83%81%EC%86%8D.ipynb\" target=\"_parent\"><img src=\"https://colab.research.google.com/assets/colab-badge.svg\" alt=\"Open In Colab\"/></a>"
      ]
    },
    {
      "cell_type": "markdown",
      "source": [
        "### Python Inheritance\n",
        "- 상속을 통해 다른 클래스에서 모든 메소드와 속성을 상속할 수 있는 클래스 정의 가능\n",
        "- 부모 클래스(기본 클래스) : 상속되는 클래스\n",
        "- 하위 클래스(파생 클래스) : 다른 클래스에서 상속되는 클래스"
      ],
      "metadata": {
        "id": "vXwf2NNOyGQy"
      }
    },
    {
      "cell_type": "markdown",
      "source": [
        "### Create a Parent Class\n",
        "- 모든 클래스는 부모 클래스"
      ],
      "metadata": {
        "id": "LMkM0Uk_yGeu"
      }
    },
    {
      "cell_type": "code",
      "execution_count": 1,
      "metadata": {
        "colab": {
          "base_uri": "https://localhost:8080/"
        },
        "id": "7UrnJcFpxmWY",
        "outputId": "6c1b425e-504b-44ce-b311-ae83003c10a7"
      },
      "outputs": [
        {
          "output_type": "stream",
          "name": "stdout",
          "text": [
            "John Doe\n"
          ]
        }
      ],
      "source": [
        "class Person : \n",
        "  def __init__(self, fname, lname) : \n",
        "    self.firstname = fname\n",
        "    self.lastname = lname\n",
        "\n",
        "  def printname(self) : \n",
        "    print(self.firstname, self.lastname)\n",
        "\n",
        "# 객체를 생성하는 Person 클래스를 사용한 후\n",
        "# printname 메소드를 실행함\n",
        "\n",
        "x = Person('John', 'Doe')\n",
        "x.printname()"
      ]
    },
    {
      "cell_type": "markdown",
      "source": [
        "### Create a Child Class"
      ],
      "metadata": {
        "id": "XQ5l50nC1DfO"
      }
    },
    {
      "cell_type": "code",
      "source": [
        "class Student(Person) : \n",
        "  pass"
      ],
      "metadata": {
        "id": "osXbNuQw1Eu9"
      },
      "execution_count": 2,
      "outputs": []
    },
    {
      "cell_type": "code",
      "source": [
        "x = Student('Mike', 'Olsen')\n",
        "x.printname()"
      ],
      "metadata": {
        "colab": {
          "base_uri": "https://localhost:8080/"
        },
        "id": "DjBe0kV67iJQ",
        "outputId": "813d1f55-ea9e-4136-a685-58c8f671022e"
      },
      "execution_count": 3,
      "outputs": [
        {
          "output_type": "stream",
          "name": "stdout",
          "text": [
            "Mike Olsen\n"
          ]
        }
      ]
    },
    {
      "cell_type": "markdown",
      "source": [
        "### Add the __init__() Function\n",
        "- __init__()사용하면 더 이상 부모클래스의 __init__()상속하지 않음\n",
        "- 자식클래스의 __init__()은 부모클래스의 __init__()의 상속을 오버라이딩함(재정의)\n",
        "- 부모클래스의 __init__()를 유지하려면 부모 클래스의 __init__()호출을 추가해야함."
      ],
      "metadata": {
        "id": "lFAKfrXQ8Dop"
      }
    },
    {
      "cell_type": "code",
      "source": [
        "class Stundent(Person) : \n",
        "  def __init(self, fname, lname) : \n",
        "    # properties 등 추가\n",
        "    Person.__init__(self, fname, lname)"
      ],
      "metadata": {
        "id": "qXNYI2808Y6Q"
      },
      "execution_count": 4,
      "outputs": []
    },
    {
      "cell_type": "markdown",
      "source": [
        "### Use the super() Function\n",
        "- 부모 클래스의 모든 메소드와 속성 상속받음"
      ],
      "metadata": {
        "id": "Y0Y3DccqKcYJ"
      }
    },
    {
      "cell_type": "code",
      "source": [
        "class Student(Person) : \n",
        "  def __init__(self, fname, lname) : \n",
        "    super().__init__(fname, lname)\n",
        "    # graduationyear 속성 추가\n",
        "    self.graduationyear = 2019"
      ],
      "metadata": {
        "id": "vQaZrL6BKcNa"
      },
      "execution_count": 5,
      "outputs": []
    },
    {
      "cell_type": "code",
      "source": [
        "# Add a year parameter, and pass the correct year when creating objects\n",
        "class Student(Person) : \n",
        "  def __init__(self, fname, lname, year) : \n",
        "    super().__init__(fname, lname)\n",
        "    self.graduationyear = year\n",
        "\n",
        "x = Student('Mike', 'Olsen', 2019)\n",
        "print(x.graduationyear)"
      ],
      "metadata": {
        "colab": {
          "base_uri": "https://localhost:8080/"
        },
        "id": "pIvnR0r8SYkg",
        "outputId": "7fbb80f7-3663-4b8b-fb49-a3716404a690"
      },
      "execution_count": 11,
      "outputs": [
        {
          "output_type": "stream",
          "name": "stdout",
          "text": [
            "2019\n"
          ]
        }
      ]
    },
    {
      "cell_type": "markdown",
      "source": [
        "### Add Methods\n",
        "- Add a method called welcome to the Student class"
      ],
      "metadata": {
        "id": "RTY6jATvTMmH"
      }
    },
    {
      "cell_type": "code",
      "source": [
        "class Student(Person) : \n",
        "  def __init__(self, fname, lname, year) : \n",
        "    super().__init__(fname, lname)\n",
        "    self.graduationyear = year\n",
        "\n",
        "  def welcome(self) : \n",
        "    print('Welcome', self.firstname, self.lastname, 'to the class of', self.graduationyear)\n",
        "\n",
        "x = Student(\"Mike\", \"Olsen\", 2019)\n",
        "x.welcome()"
      ],
      "metadata": {
        "colab": {
          "base_uri": "https://localhost:8080/"
        },
        "id": "PdRDkUPQTMak",
        "outputId": "1c1e5931-2c40-40b7-e9f4-d432d3f50f61"
      },
      "execution_count": 13,
      "outputs": [
        {
          "output_type": "stream",
          "name": "stdout",
          "text": [
            "Welcome Mike Olsen to the class of 2019\n"
          ]
        }
      ]
    }
  ]
}