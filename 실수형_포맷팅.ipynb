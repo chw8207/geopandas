{
 "cells": [
  {
   "cell_type": "markdown",
   "metadata": {},
   "source": [
    "### round() 함수\n",
    "- ROUND HALF EVEN 방식 : 올림/버림값과 전달된 값 차이가 같으면 짝수 선택"
   ]
  },
  {
   "cell_type": "code",
   "execution_count": 6,
   "metadata": {},
   "outputs": [
    {
     "name": "stdout",
     "output_type": "stream",
     "text": [
      "0\n",
      "2\n",
      "123.46\n",
      "123500\n"
     ]
    }
   ],
   "source": [
    "print(round(0.5))\n",
    "print(round(1.5))\n",
    "print(round(123.4567,2))\n",
    "print(round(123456,-2))"
   ]
  },
  {
   "cell_type": "markdown",
   "metadata": {},
   "source": [
    "### 실수형 서식 문자 : %lf\n",
    "- %lf : 소수점 여섯째 자리(일곱째 자리에서 반올림)까지 나타냄"
   ]
  },
  {
   "cell_type": "code",
   "execution_count": 11,
   "metadata": {},
   "outputs": [
    {
     "name": "stdout",
     "output_type": "stream",
     "text": [
      "123.456700\n",
      "123.46\n",
      "123\n",
      "123\n"
     ]
    }
   ],
   "source": [
    "print('%lf' % 123.4567)\n",
    "print('%.2lf' % 123.4567)\n",
    "print('%0.lf' % 123.4567)\n",
    "print('%.lf' % 123.4567)"
   ]
  },
  {
   "cell_type": "markdown",
   "metadata": {},
   "source": [
    "### 실수형 포맷팅"
   ]
  },
  {
   "cell_type": "code",
   "execution_count": 15,
   "metadata": {},
   "outputs": [
    {
     "name": "stdout",
     "output_type": "stream",
     "text": [
      "12345678901234\n",
      "ABC  123.46DEF\n",
      "ABC123.46  DEF\n",
      "ABC123.46DEF\n"
     ]
    }
   ],
   "source": [
    "print('12345678901234')\n",
    "print('ABC%8.2lfDEF' % 123.4567)\n",
    "print('ABC%-8.2lfDEF' % 123.4567)\n",
    "print('ABC%3.2lfDEF' % 123.4567)"
   ]
  },
  {
   "cell_type": "markdown",
   "metadata": {},
   "source": [
    "### 연습문제\n",
    "- print()문 7개를 사용하여 실수의 덧셈 과정을 출력하는 프로그램 "
   ]
  },
  {
   "cell_type": "code",
   "execution_count": 17,
   "metadata": {},
   "outputs": [
    {
     "name": "stdout",
     "output_type": "stream",
     "text": [
      "    12.345\n",
      "    34.567\n",
      "    56.789\n",
      "   456.780\n",
      "----------\n",
      "   560.481\n"
     ]
    }
   ],
   "source": [
    "print('%10.3f' % 12.345)\n",
    "print('%10.3f' % 34.567)\n",
    "print('%10.3f' % 56.789)\n",
    "print('%10.3f' % 456.780)\n",
    "print('----------')\n",
    "print('%10.3f' % (12.345+34.567+56.789+456.780))"
   ]
  },
  {
   "cell_type": "markdown",
   "metadata": {},
   "source": [
    "- 12.5672, 456.7769, 123456.78, 4567.5678, 6712.34523를 소수점 셋째 자리까지 출력하여 주어진 실수가 반올림이 됨을 증명하기"
   ]
  },
  {
   "cell_type": "code",
   "execution_count": 19,
   "metadata": {},
   "outputs": [
    {
     "name": "stdout",
     "output_type": "stream",
     "text": [
      "    12.567\n",
      "   456.777\n",
      "123456.780\n",
      "  4567.568\n",
      "  6712.345\n"
     ]
    }
   ],
   "source": [
    "print('%10.3f' % 12.5672)\n",
    "print('%10.3f' % 456.7769)\n",
    "print('%10.3f' % 123456.78)\n",
    "print('%10.3f' % 4567.5678)\n",
    "print('%10.3f' % 6712.34523)"
   ]
  }
 ],
 "metadata": {
  "kernelspec": {
   "display_name": "base",
   "language": "python",
   "name": "python3"
  },
  "language_info": {
   "codemirror_mode": {
    "name": "ipython",
    "version": 3
   },
   "file_extension": ".py",
   "mimetype": "text/x-python",
   "name": "python",
   "nbconvert_exporter": "python",
   "pygments_lexer": "ipython3",
   "version": "3.9.13"
  },
  "orig_nbformat": 4
 },
 "nbformat": 4,
 "nbformat_minor": 2
}
