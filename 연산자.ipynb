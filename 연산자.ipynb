{
 "cells": [
  {
   "cell_type": "markdown",
   "metadata": {},
   "source": [
    "### 대입 연산자와 is 연산자\n",
    "- print(a is b) : True(변수 a와 b는 같은 객체를 가리킴.)"
   ]
  },
  {
   "cell_type": "code",
   "execution_count": 3,
   "metadata": {},
   "outputs": [
    {
     "name": "stdout",
     "output_type": "stream",
     "text": [
      "5\n",
      "5\n",
      "5\n",
      "True\n",
      "True\n"
     ]
    }
   ],
   "source": [
    "a = None\n",
    "b = None\n",
    "c = 5\n",
    "\n",
    "a = b = c\n",
    "\n",
    "print(a)\n",
    "print(b)\n",
    "print(c)\n",
    "print(a is c)\n",
    "print(b is c)"
   ]
  },
  {
   "cell_type": "markdown",
   "metadata": {},
   "source": [
    "### 누적시키기"
   ]
  },
  {
   "cell_type": "code",
   "execution_count": 10,
   "metadata": {},
   "outputs": [
    {
     "name": "stdout",
     "output_type": "stream",
     "text": [
      "15\n",
      "75\n",
      "70\n",
      "14\n",
      "4\n",
      "1024\n",
      "204.8\n"
     ]
    }
   ],
   "source": [
    "s = 10\n",
    "\n",
    "s += 5\n",
    "print(s)\n",
    "\n",
    "s *= 5\n",
    "print(s)\n",
    "\n",
    "s -= 5\n",
    "print(s)\n",
    "\n",
    "s //= 5\n",
    "print(s)\n",
    "\n",
    "s %= 5\n",
    "print(s)\n",
    "\n",
    "s **= 5\n",
    "print(s)\n",
    "\n",
    "s /= 5\n",
    "print(s)"
   ]
  },
  {
   "cell_type": "markdown",
   "metadata": {},
   "source": [
    "### 연습문제\n",
    "- 다섯 개의 정수가 주어지면 주어진 정수의 누적 결과를 각 줄에 차례대로 출력하는 프로그램"
   ]
  },
  {
   "cell_type": "code",
   "execution_count": 13,
   "metadata": {},
   "outputs": [
    {
     "name": "stdout",
     "output_type": "stream",
     "text": [
      "5\n",
      "13\n",
      "20\n",
      "28\n",
      "39\n"
     ]
    }
   ],
   "source": [
    "sum = 0\n",
    "a = int(input())\n",
    "sum += a\n",
    "print(sum)\n",
    "\n",
    "a = int(input())\n",
    "sum += a\n",
    "print(sum)\n",
    "\n",
    "a = int(input())\n",
    "sum += a\n",
    "print(sum)\n",
    "\n",
    "a = int(input())\n",
    "sum += a\n",
    "print(sum)\n",
    "\n",
    "a = int(input())\n",
    "sum += a\n",
    "print(sum)"
   ]
  },
  {
   "cell_type": "markdown",
   "metadata": {},
   "source": [
    "- 세 정수 A,B,C가 주어지면 주어진 수의 총합과 평균 구하는 프로그램(입력:공백으로 구분)"
   ]
  },
  {
   "cell_type": "code",
   "execution_count": 18,
   "metadata": {},
   "outputs": [
    {
     "name": "stdout",
     "output_type": "stream",
     "text": [
      "145\n",
      "48.33\n"
     ]
    }
   ],
   "source": [
    "a,b,c = map(int, input().split())\n",
    "print(a+b+c)\n",
    "print(round((a+b+c)/3, 2))"
   ]
  },
  {
   "cell_type": "markdown",
   "metadata": {},
   "source": [
    "- R2 : 평균과 R1을 토대로 R2 찾기"
   ]
  },
  {
   "cell_type": "code",
   "execution_count": 20,
   "metadata": {},
   "outputs": [
    {
     "name": "stdout",
     "output_type": "stream",
     "text": [
      "2\n"
     ]
    }
   ],
   "source": [
    "R1, S = map(int, input().split())\n",
    "print(2*S-R1)"
   ]
  },
  {
   "cell_type": "markdown",
   "metadata": {},
   "source": [
    "- 디지털 시계 : 현재 시간과 소요된 시간을 토대로 문제를 끝마친 시간 구하기"
   ]
  },
  {
   "cell_type": "code",
   "execution_count": 28,
   "metadata": {},
   "outputs": [
    {
     "name": "stdout",
     "output_type": "stream",
     "text": [
      "6 42\n"
     ]
    }
   ],
   "source": [
    "a,b = map(int, input().split())\n",
    "c = int(input())\n",
    "print((a+(b+c)//60)%24, (b+c)%60)"
   ]
  },
  {
   "cell_type": "markdown",
   "metadata": {},
   "source": [
    "- 체스판 자르기 : N번의 절단으로 체스판을 자른 후 얻을 수 있는 최대 조각의 개수"
   ]
  },
  {
   "cell_type": "code",
   "execution_count": 36,
   "metadata": {},
   "outputs": [
    {
     "name": "stdout",
     "output_type": "stream",
     "text": [
      "9\n"
     ]
    }
   ],
   "source": [
    "n = int(input())\n",
    "c = n//2  # 세로 절단 수\n",
    "r = n-c   # 가로 절단 수\n",
    "print((c+1)*(r+1))"
   ]
  }
 ],
 "metadata": {
  "kernelspec": {
   "display_name": "base",
   "language": "python",
   "name": "python3"
  },
  "language_info": {
   "codemirror_mode": {
    "name": "ipython",
    "version": 3
   },
   "file_extension": ".py",
   "mimetype": "text/x-python",
   "name": "python",
   "nbconvert_exporter": "python",
   "pygments_lexer": "ipython3",
   "version": "3.9.13"
  },
  "orig_nbformat": 4
 },
 "nbformat": 4,
 "nbformat_minor": 2
}
