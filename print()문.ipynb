{
 "cells": [
  {
   "cell_type": "markdown",
   "metadata": {},
   "source": [
    "### 끝 문자와 구분자\n",
    "- end : 줄 내림 대신 해당 문자 추가\n",
    "- sep : 공백 대신 해당 문자 추가"
   ]
  },
  {
   "cell_type": "code",
   "execution_count": 7,
   "metadata": {},
   "outputs": [
    {
     "name": "stdout",
     "output_type": "stream",
     "text": [
      "ABC,DEF,GHI,JKL\n"
     ]
    }
   ],
   "source": [
    "print('ABC,DEF', end=',')\n",
    "print('GHI', 'JKL', sep=',')"
   ]
  },
  {
   "cell_type": "markdown",
   "metadata": {},
   "source": [
    "### 제어 문자"
   ]
  },
  {
   "cell_type": "code",
   "execution_count": 14,
   "metadata": {},
   "outputs": [
    {
     "name": "stdout",
     "output_type": "stream",
     "text": [
      "Hello, Euler\n",
      "\n",
      "\n",
      "Hello, Euler\n",
      "\n",
      "\n",
      "\n",
      "Hello, Euler\n"
     ]
    }
   ],
   "source": [
    "print('Hello, Euler\\n\\n')\n",
    "print('Hello, Euler')\n",
    "print('\\n')\n",
    "print()\n",
    "print('Hello, Euler')"
   ]
  },
  {
   "cell_type": "markdown",
   "metadata": {},
   "source": [
    "### 연습문제\n",
    "- print()문 5개를 각 줄에 사용하여 삼각형 출력하기"
   ]
  },
  {
   "cell_type": "code",
   "execution_count": 17,
   "metadata": {},
   "outputs": [
    {
     "name": "stdout",
     "output_type": "stream",
     "text": [
      "#\n",
      "##\n",
      "###\n",
      "####\n",
      "#####\n"
     ]
    }
   ],
   "source": [
    "print('#')\n",
    "print('##')\n",
    "print('###')\n",
    "print('####')\n",
    "print('#####')"
   ]
  },
  {
   "cell_type": "markdown",
   "metadata": {},
   "source": [
    "- print()문 9개를 사용하여 다이아몬드 출력하기"
   ]
  },
  {
   "cell_type": "code",
   "execution_count": 24,
   "metadata": {},
   "outputs": [
    {
     "name": "stdout",
     "output_type": "stream",
     "text": [
      "    #\n",
      "   ###\n",
      "  #####\n",
      " #######\n",
      "#########\n",
      " #######\n",
      "  #####\n",
      "   ###\n",
      "    #\n"
     ]
    }
   ],
   "source": [
    "print('    #')\n",
    "print('   ###')\n",
    "print('  #####')\n",
    "print(' #######')\n",
    "print('#########')\n",
    "print(' #######')\n",
    "print('  #####')\n",
    "print('   ###')\n",
    "print('    #')"
   ]
  },
  {
   "cell_type": "markdown",
   "metadata": {},
   "source": [
    "- print()문 5개를 사용하여 EULER 모양을 나타내기"
   ]
  },
  {
   "cell_type": "code",
   "execution_count": 74,
   "metadata": {},
   "outputs": [
    {
     "name": "stdout",
     "output_type": "stream",
     "text": [
      "EEEEEEE U     U L       EEEEEEE RRRRRR\n",
      "E       U     U L       E       R     R\n",
      "EEEEEEE U       L       EEEEEEE RRRRRRR\n",
      "E       U     U L       E       R    R\n",
      "EEEEEEE UUUUUUU LLLLLLL EEEEEEE R     R\n"
     ]
    }
   ],
   "source": [
    "print('EEEEEEE', 'U','    U' ' L', '      EEEEEEE','RRRRRR')\n",
    "print('E', '      U','    U','L','      E', '      R','    R')\n",
    "print('EEEEEEE', 'U', '      L', '      EEEEEEE','RRRRRRR')\n",
    "print('E', '      U', '    U', 'L', '      E','      R','   R')\n",
    "print('EEEEEEE', 'UUUUUUU', 'LLLLLLL', 'EEEEEEE','R','    R')"
   ]
  }
 ],
 "metadata": {
  "kernelspec": {
   "display_name": "base",
   "language": "python",
   "name": "python3"
  },
  "language_info": {
   "codemirror_mode": {
    "name": "ipython",
    "version": 3
   },
   "file_extension": ".py",
   "mimetype": "text/x-python",
   "name": "python",
   "nbconvert_exporter": "python",
   "pygments_lexer": "ipython3",
   "version": "3.9.13"
  },
  "orig_nbformat": 4
 },
 "nbformat": 4,
 "nbformat_minor": 2
}
