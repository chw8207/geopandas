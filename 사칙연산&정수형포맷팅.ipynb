{
 "cells": [
  {
   "cell_type": "markdown",
   "metadata": {},
   "source": [
    "### 정수형 서식 문자"
   ]
  },
  {
   "cell_type": "code",
   "execution_count": 5,
   "metadata": {},
   "outputs": [
    {
     "name": "stdout",
     "output_type": "stream",
     "text": [
      "45\n",
      "35 + 10 = 45\n",
      "25\n",
      "35 - 10 = 25\n",
      "350\n",
      "35 * 10 = 350\n",
      "3\n",
      "35 / 10 = 3\n"
     ]
    }
   ],
   "source": [
    "print('%d' % (35+10))\n",
    "print('%d + %d = %d' % (35, 10, 35+10))\n",
    "\n",
    "print('%d' % (35-10))\n",
    "print('%d - %d = %d' % (35, 10, 35-10))\n",
    "\n",
    "print('%d' % (35*10))\n",
    "print('%d * %d = %d' % (35, 10, 35*10))\n",
    "\n",
    "print('%d' % (35/10))\n",
    "print('%d / %d = %d' % (35, 10, 35/10))"
   ]
  },
  {
   "cell_type": "markdown",
   "metadata": {},
   "source": [
    "### 정수형 포맷팅\n",
    "- %nd : 오른쪽 정렬\n",
    "- %-nd : 왼쪽 정렬  "
   ]
  },
  {
   "cell_type": "code",
   "execution_count": 13,
   "metadata": {},
   "outputs": [
    {
     "name": "stdout",
     "output_type": "stream",
     "text": [
      "123  678\n",
      "12345678901234\n",
      "ABC     123DEF\n",
      "ABC123     DEF\n",
      "ABC123DEF\n"
     ]
    }
   ],
   "source": [
    "print('123', end=' ')\n",
    "print(' 678',)\n",
    "print('12345678901234')\n",
    "print('ABC%8dDEF' % 123)\n",
    "print('ABC%-8dDEF' % 123)\n",
    "print('ABC%2dDEF' % 123)"
   ]
  },
  {
   "cell_type": "markdown",
   "metadata": {},
   "source": [
    "### 연습문제\n",
    "- 정수 10, 8을 사용하여 목과 나머지 연산 과정을 출력하는 프로그램 작성하기"
   ]
  },
  {
   "cell_type": "code",
   "execution_count": 16,
   "metadata": {},
   "outputs": [
    {
     "name": "stdout",
     "output_type": "stream",
     "text": [
      "10 // 8 = 1\n",
      "10 % 8 = 2\n"
     ]
    }
   ],
   "source": [
    "print(10, '//', 8, '=', 10//8)\n",
    "print(10, '%', 8, '=', 10%8)"
   ]
  },
  {
   "cell_type": "markdown",
   "metadata": {},
   "source": [
    "- print()문 7개를 각 줄에 사용하여 정수의 덧셈 과정을 출력하는 프로그램 만들기"
   ]
  },
  {
   "cell_type": "code",
   "execution_count": 21,
   "metadata": {},
   "outputs": [
    {
     "name": "stdout",
     "output_type": "stream",
     "text": [
      "         1\n",
      "        11\n",
      "       111\n",
      "      1111\n",
      "     11111\n",
      "----------\n",
      "     12345\n"
     ]
    }
   ],
   "source": [
    "print('%10d' % 1)\n",
    "print('%10d' % 11)\n",
    "print('%10d' % 111)\n",
    "print('%10d' % 1111)\n",
    "print('%10d' % 11111)\n",
    "print('----------')\n",
    "print('%10d' % (1+11+111+1111+11111))"
   ]
  },
  {
   "cell_type": "markdown",
   "metadata": {},
   "source": [
    "- print()문 7개를 각 줄에 사용하여 정수의 뺄셈 과정을 출력하는 프로그램 만들기"
   ]
  },
  {
   "cell_type": "code",
   "execution_count": 23,
   "metadata": {},
   "outputs": [
    {
     "name": "stdout",
     "output_type": "stream",
     "text": [
      "22222\n",
      " 2222\n",
      "  222\n",
      "   22\n",
      "    2\n",
      "-----\n",
      "19754\n"
     ]
    }
   ],
   "source": [
    "print('%5d' % 22222)\n",
    "print('%5d' % 2222)\n",
    "print('%5d' % 222)\n",
    "print('%5d' % 22)\n",
    "print('%5d' % 2)\n",
    "print('-----')\n",
    "print('%5d' % (22222-2222-222-22-2))"
   ]
  }
 ],
 "metadata": {
  "kernelspec": {
   "display_name": "base",
   "language": "python",
   "name": "python3"
  },
  "language_info": {
   "codemirror_mode": {
    "name": "ipython",
    "version": 3
   },
   "file_extension": ".py",
   "mimetype": "text/x-python",
   "name": "python",
   "nbconvert_exporter": "python",
   "pygments_lexer": "ipython3",
   "version": "3.9.13"
  },
  "orig_nbformat": 4
 },
 "nbformat": 4,
 "nbformat_minor": 2
}
